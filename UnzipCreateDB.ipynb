{
  "nbformat": 4,
  "nbformat_minor": 0,
  "metadata": {
    "colab": {
      "name": "UnzipCreateDB.ipynb",
      "provenance": [],
      "collapsed_sections": [],
      "authorship_tag": "ABX9TyOJM/9g1w27cCN4XIxwNRCZ",
      "include_colab_link": true
    },
    "kernelspec": {
      "name": "python3",
      "display_name": "Python 3"
    }
  },
  "cells": [
    {
      "cell_type": "markdown",
      "metadata": {
        "id": "view-in-github",
        "colab_type": "text"
      },
      "source": [
        "<a href=\"https://colab.research.google.com/github/henrim666/ForexHistoricalDataCreator/blob/master/UnzipCreateDB.ipynb\" target=\"_parent\"><img src=\"https://colab.research.google.com/assets/colab-badge.svg\" alt=\"Open In Colab\"/></a>"
      ]
    },
    {
      "cell_type": "code",
      "metadata": {
        "id": "kGgXdv8G1e4s",
        "colab_type": "code",
        "colab": {}
      },
      "source": [
        ""
      ],
      "execution_count": 0,
      "outputs": []
    },
    {
      "cell_type": "markdown",
      "metadata": {
        "id": "pqbD2XTB1nkT",
        "colab_type": "text"
      },
      "source": [
        ""
      ]
    },
    {
      "cell_type": "code",
      "metadata": {
        "id": "ug5HAe461nxW",
        "colab_type": "code",
        "colab": {}
      },
      "source": [
        "def unzip():\n",
        "    print('Extract all files in ZIP to current directory')\n",
        "    symbolsub = [\"GBPUSD\"]\n",
        "    for symbolsubstring in symbolsub:\n",
        "        for yearsub in range (2003, 2020):\n",
        "            for monthsub in range(1, 13):\n",
        "                if monthsub<10:\n",
        "                    monthsubstring = '0' + str(monthsub)\n",
        "                else: \n",
        "                    monthsubstring = str(monthsub) \n",
        "                zipfilename='C://historyforexdata//GBPpairs//HISTDATA_COM_ASCII_' + symbolsubstring + '_T_' + str(yearsub)+monthsubstring + '.zip'\n",
        "                print(zipfilename)\n",
        "                try:\n",
        "                    with ZipFile(zipfilename, 'r') as zipObj:\n",
        "                        zipObj.extractall('C://historyforexdata//unzip')\n",
        "                except OSError:\n",
        "                    print(\"error \")\n",
        "                    pass\n",
        "\n",
        "def dbload(): \n",
        "    print('Load all files into databases')\n",
        "    symbolsub = [\"GBPJPY\", \"GBPUSD\"]\n",
        "    timeframe = '_T_'\n",
        "    sourcefileextension = '.csv'  \n",
        "    targetfileextension = '.db'\n",
        "    sourceprename = 'DAT_ASCII_'\n",
        "    targetprename = 'DAT_ASCII_'\n",
        "    workpath = 'C://historyforexdata//'\n",
        "    sourcedir = 'unzip//'\n",
        "    targetdir = 'database1//'\n",
        "    for symbolsubstring in symbolsub:\n",
        "        for yearsub in range (2003, 2020):\n",
        "            for monthsub in range(1, 13):\n",
        "                if monthsub<10:\n",
        "                    monthsubstring = '0' + str(monthsub)\n",
        "                else: \n",
        "                    monthsubstring = str(monthsub)  \n",
        "                dbconnectstring =    workpath + targetdir + targetprename +  symbolsubstring + timeframe + str(yearsub)+monthsubstring + targetfileextension       \n",
        "                conn = sqlite3.connect(dbconnectstring)\n",
        "                cur = conn.cursor()\n",
        "                databasename = symbolsubstring +str(yearsub)+monthsubstring + \"BidAsk\"\n",
        "                createtablestring  = 'CREATE TABLE '  + databasename + ' (Symbol text, DateTime text, Bid text, Ask text, Tick text)'\n",
        "                print(createtablestring)\n",
        "                cur.execute(createtablestring)\n",
        "                pandaconnectstring  =  workpath + sourcedir + sourceprename + symbolsubstring + timeframe + str(yearsub)+monthsubstring + sourcefileextension \n",
        "                try:\n",
        "                    print('source csv file for panda ',pandaconnectstring)\n",
        "                    print('target database file ',dbconnectstring)\n",
        "                    with open(pandaconnectstring, \"r\") as f: # CSV file input\n",
        "                        reader = csv.reader(f, delimiter=',') # no header information with delimiter\n",
        "                        for row in reader:\n",
        "                            Symbol   = symbolsubstring\n",
        "                            DateTime = str(row[0])\n",
        "                            Bid      = str(row[1])\n",
        "                            Ask      = str(row[2])\n",
        "                            Tick     = str(row[3])\n",
        "                            sql = \"INSERT INTO \" + databasename + \" VALUES \" + \"('\" + Symbol + \"','\"  + DateTime  + \"','\"  + Bid  + \"','\"  + Ask+ \"','\"  + Tick + \"')\"\n",
        "                            cur.execute(sql)\n",
        "                            \n",
        "                except OSError:\n",
        "                    print(\"error \")\n",
        "                    pass\n",
        "                conn.commit() \n",
        "    conn.close()"
      ],
      "execution_count": 0,
      "outputs": []
    }
  ]
}